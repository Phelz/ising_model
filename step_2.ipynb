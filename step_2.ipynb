{
 "cells": [
  {
   "attachments": {},
   "cell_type": "markdown",
   "metadata": {},
   "source": [
    "# Operations with Lists\n",
    "\n",
    "Unfortunately, lists (in Python) are actually not the best thing when it comes to mathematical operations. Let's see why. \n",
    "\n",
    "If we have a list of numbers, can we perform what is called **Linear Algebra** operations? \n",
    "\n",
    "The two fundamental building blocks of linear algebra are **Addition** and **Scalar Multiplication**. Can we scale a list or add lists together?"
   ]
  },
  {
   "cell_type": "code",
   "execution_count": 1,
   "metadata": {},
   "outputs": [
    {
     "data": {
      "text/plain": [
       "[1, 2, 3, 4, 5, 1, 2, 3, 4, 5]"
      ]
     },
     "execution_count": 1,
     "metadata": {},
     "output_type": "execute_result"
    }
   ],
   "source": [
    "a = [1, 2, 3, 4, 5]\n",
    "\n",
    "a * 2"
   ]
  },
  {
   "attachments": {},
   "cell_type": "markdown",
   "metadata": {},
   "source": [
    "hrmmm.... this can defenitely be helpful, but not what we want. What about addition? Can I add `1` to all members of the list?"
   ]
  },
  {
   "cell_type": "code",
   "execution_count": 2,
   "metadata": {},
   "outputs": [
    {
     "ename": "TypeError",
     "evalue": "can only concatenate list (not \"int\") to list",
     "output_type": "error",
     "traceback": [
      "\u001b[1;31m---------------------------------------------------------------------------\u001b[0m",
      "\u001b[1;31mTypeError\u001b[0m                                 Traceback (most recent call last)",
      "\u001b[1;32md:\\OneDrive - University of Calgary\\EnM Python\\ising_model\\step_2.ipynb Cell 4\u001b[0m in \u001b[0;36m<module>\u001b[1;34m\u001b[0m\n\u001b[1;32m----> <a href='vscode-notebook-cell:/d%3A/OneDrive%20-%20University%20of%20Calgary/EnM%20Python/ising_model/step_2.ipynb#W4sZmlsZQ%3D%3D?line=0'>1</a>\u001b[0m a \u001b[39m+\u001b[39;49m \u001b[39m1\u001b[39;49m\n",
      "\u001b[1;31mTypeError\u001b[0m: can only concatenate list (not \"int\") to list"
     ]
    }
   ],
   "source": [
    "a + 1"
   ]
  },
  {
   "attachments": {},
   "cell_type": "markdown",
   "metadata": {},
   "source": [
    "Whoops! Maybe I'm doing this wrong... We should really be adding a list of \"1\"s to `a`. That's the linear operation."
   ]
  },
  {
   "cell_type": "code",
   "execution_count": 4,
   "metadata": {},
   "outputs": [
    {
     "data": {
      "text/plain": [
       "[1, 1, 1, 1, 1, 1]"
      ]
     },
     "execution_count": 4,
     "metadata": {},
     "output_type": "execute_result"
    }
   ],
   "source": [
    "b = [1, 1, 1, 1, 1, 1]\n",
    "b"
   ]
  },
  {
   "cell_type": "code",
   "execution_count": 5,
   "metadata": {},
   "outputs": [
    {
     "data": {
      "text/plain": [
       "[1, 2, 3, 4, 5, 1, 1, 1, 1, 1, 1]"
      ]
     },
     "execution_count": 5,
     "metadata": {},
     "output_type": "execute_result"
    }
   ],
   "source": [
    "a + b"
   ]
  },
  {
   "attachments": {},
   "cell_type": "markdown",
   "metadata": {},
   "source": [
    "Hrmmm... For one, it didn't seem to mind the fact that `b` was one element larger in size than `a`. Notice that? \n",
    "\n",
    "Also, again, it's not what we want.\n",
    "\n",
    "### We must ***iterate*** over lists to perform these operations"
   ]
  },
  {
   "attachments": {},
   "cell_type": "markdown",
   "metadata": {},
   "source": [
    "#### Scalar Multiplication\n",
    "\n",
    "We can do this in many ways, but here's the takeaway: Some ways are going to be \"better\". Also, it's good to see what ways are NOT possible.\n",
    "\n",
    "1. Creating a new list using the values in the original list."
   ]
  },
  {
   "cell_type": "code",
   "execution_count": 8,
   "metadata": {},
   "outputs": [
    {
     "name": "stdout",
     "output_type": "stream",
     "text": [
      "2\n",
      "4\n",
      "6\n",
      "8\n",
      "10\n",
      "[2, 4, 6, 8, 10]\n"
     ]
    }
   ],
   "source": [
    "mew_list = []\n",
    "scaling_factor=2\n",
    "\n",
    "for element in a:\n",
    "\n",
    "    mew_val = element*scaling_factor \n",
    "    print(mew_val)\n",
    "    \n",
    "    mew_list.append(mew_val)\n",
    "\n",
    "print(mew_list)"
   ]
  },
  {
   "attachments": {},
   "cell_type": "markdown",
   "metadata": {},
   "source": [
    "2. Modifying the list \"in-place\", as they say. For this we need to `enumerate` the list. This way will save memory, since sometimes we don't need a new list."
   ]
  },
  {
   "cell_type": "code",
   "execution_count": 11,
   "metadata": {},
   "outputs": [
    {
     "name": "stdout",
     "output_type": "stream",
     "text": [
      "[2, 4, 6, 8, 10]\n"
     ]
    }
   ],
   "source": [
    "\n",
    "for element_index, element in enumerate(a):\n",
    "\n",
    "    mew_val = element*scaling_factor # Notice the `scaling_factor` was already defined above. \n",
    "\n",
    "    a[element_index] = mew_val\n",
    "\n",
    "\n",
    "print(a)"
   ]
  },
  {
   "attachments": {},
   "cell_type": "markdown",
   "metadata": {},
   "source": [
    "***What do you think happens if you run this cell again?***\n",
    "\n"
   ]
  },
  {
   "attachments": {},
   "cell_type": "markdown",
   "metadata": {},
   "source": [
    "3. There are more advanced ways... It's not crucial to know them, but knowing at least one is not only handy, it teaches us more about Python. \n",
    "\n",
    "Here I will show one such methods. To do this, we will make our own function that multiplies any value we give it by 2. Then we will `map` our function to a list of number `c = [2, 2, 2, 2]`. "
   ]
  },
  {
   "cell_type": "code",
   "execution_count": 13,
   "metadata": {},
   "outputs": [
    {
     "data": {
      "text/plain": [
       "[4, 4, 4, 4]"
      ]
     },
     "execution_count": 13,
     "metadata": {},
     "output_type": "execute_result"
    }
   ],
   "source": [
    "def multiply_value_by_2(value):\n",
    "\n",
    "    return value*2\n",
    "\n",
    "c = [2, 2, 2, 2]\n",
    "\n",
    "scaled_list = list( map( multiply_value_by_2, c ) )\n",
    "scaled_list"
   ]
  },
  {
   "attachments": {},
   "cell_type": "markdown",
   "metadata": {},
   "source": [
    "#### Addition\n",
    "\n",
    "To add, the most basic way is to iterate (loop over) lists. Let's say we want to add `1` to each element our list `c`."
   ]
  },
  {
   "cell_type": "code",
   "execution_count": 14,
   "metadata": {},
   "outputs": [
    {
     "name": "stdout",
     "output_type": "stream",
     "text": [
      "[3, 3, 3, 3]\n"
     ]
    }
   ],
   "source": [
    "for element_index, element in enumerate( c ):\n",
    "    c[element_index] = element + 1 # Notice, there's no need to create a \"mew_value\", that's just an intermediary step!\n",
    "\n",
    "print(c) # Also notice, that c = [2, 2, 2, 2] hadn't changed to [4, 4, 4, 4]... we simply created a new list called `scaled_list` for the example above"
   ]
  },
  {
   "cell_type": "markdown",
   "metadata": {},
   "source": [
    "Remember our old lists? `a` and `b`? We wanted to add those initially... Even though the values of `a` changed, we can try to add it to `b` and see what we get."
   ]
  },
  {
   "cell_type": "code",
   "execution_count": 16,
   "metadata": {},
   "outputs": [
    {
     "name": "stdout",
     "output_type": "stream",
     "text": [
      "[2, 4, 6, 8, 10]\n",
      "[1, 1, 1, 1, 1, 1]\n",
      "[3, 5, 7, 9, 11]\n"
     ]
    }
   ],
   "source": [
    "\n",
    "addition_list = []\n",
    "\n",
    "for element_in_a, element_in_b in zip(a, b):\n",
    "\n",
    "    addition_list.append( element_in_a + element_in_b )\n",
    "\n",
    "print(a)\n",
    "print(b)\n",
    "print(addition_list)"
   ]
  },
  {
   "attachments": {},
   "cell_type": "markdown",
   "metadata": {},
   "source": [
    "Again, it didn't mind that the lists are not the same size. That's something to keep in mind. The `for` loop ends when either `a` or `b` ends.\n",
    "\n",
    "Now... is there another way?"
   ]
  },
  {
   "cell_type": "code",
   "execution_count": null,
   "metadata": {},
   "outputs": [],
   "source": []
  },
  {
   "cell_type": "code",
   "execution_count": null,
   "metadata": {},
   "outputs": [],
   "source": []
  },
  {
   "cell_type": "code",
   "execution_count": null,
   "metadata": {},
   "outputs": [],
   "source": []
  }
 ],
 "metadata": {
  "kernelspec": {
   "display_name": "FromScratch",
   "language": "python",
   "name": "python3"
  },
  "language_info": {
   "codemirror_mode": {
    "name": "ipython",
    "version": 3
   },
   "file_extension": ".py",
   "mimetype": "text/x-python",
   "name": "python",
   "nbconvert_exporter": "python",
   "pygments_lexer": "ipython3",
   "version": "3.9.7"
  },
  "orig_nbformat": 4,
  "vscode": {
   "interpreter": {
    "hash": "c4fc94373f5e0b54f43d1f392628e115dbadbb61507a3532d6a4a7f89c4b962e"
   }
  }
 },
 "nbformat": 4,
 "nbformat_minor": 2
}
