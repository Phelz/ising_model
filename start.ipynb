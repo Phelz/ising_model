{
 "cells": [
  {
   "cell_type": "markdown",
   "metadata": {},
   "source": [
    "# Imports"
   ]
  },
  {
   "cell_type": "code",
   "execution_count": 179,
   "metadata": {},
   "outputs": [],
   "source": [
    "import numpy as np\n",
    "import matplotlib.pyplot as plt"
   ]
  },
  {
   "cell_type": "markdown",
   "metadata": {},
   "source": [
    "## Random Numbers"
   ]
  },
  {
   "attachments": {},
   "cell_type": "markdown",
   "metadata": {},
   "source": [
    "The seed will help us produce random, yet reproducible results."
   ]
  },
  {
   "cell_type": "code",
   "execution_count": 180,
   "metadata": {},
   "outputs": [
    {
     "data": {
      "text/plain": [
       "0.9430561055723676"
      ]
     },
     "execution_count": 180,
     "metadata": {},
     "output_type": "execute_result"
    }
   ],
   "source": [
    "# seed = np.random.randint(0, 100)\n",
    "seed = 4\n",
    "\n",
    "rng = np.random.default_rng(seed=seed)\n",
    "rng.random()\n"
   ]
  },
  {
   "cell_type": "markdown",
   "metadata": {},
   "source": [
    "### Generating a grid"
   ]
  },
  {
   "cell_type": "code",
   "execution_count": 181,
   "metadata": {},
   "outputs": [
    {
     "data": {
      "image/png": "[encoded data removed]",
      "text/plain": [
       "<Figure size 432x288 with 2 Axes>"
      ]
     },
     "metadata": {
      "needs_background": "light"
     },
     "output_type": "display_data"
    }
   ],
   "source": [
    "GRID_SIZE = 30 \n",
    "MIN_GRID_VAL, MAX_GRID_VAL = 0, 1\n",
    "\n",
    "rints = rng.integers(low=MIN_GRID_VAL, high= MAX_GRID_VAL + 1, size=(GRID_SIZE, GRID_SIZE))\n",
    "\n",
    "plt.imshow(rints, cmap=\"Blues\")\n",
    "plt.colorbar();"
   ]
  },
  {
   "attachments": {},
   "cell_type": "markdown",
   "metadata": {},
   "source": [
    "It is importannt to tally the ratios given via our RNG:"
   ]
  },
  {
   "cell_type": "code",
   "execution_count": 182,
   "metadata": {},
   "outputs": [
    {
     "data": {
      "text/plain": [
       "0.9148936170212766"
      ]
     },
     "execution_count": 182,
     "metadata": {},
     "output_type": "execute_result"
    }
   ],
   "source": [
    "len(rints[rints==0])/len(rints[rints==1])"
   ]
  },
  {
   "attachments": {},
   "cell_type": "markdown",
   "metadata": {},
   "source": [
    "You can keep generating different grids to convince yourself this is good enough.\n",
    "\n",
    "To simplify a lot of the mathethematics that follows, it is convenient to use a `spin-up = 1` and `spin-down = -1` convention. This will become handy, specially when calculating the net magnetization. Let's do the ratio counting one more time, but this time, using the calculation of net magnetization. "
   ]
  },
  {
   "cell_type": "code",
   "execution_count": 183,
   "metadata": {},
   "outputs": [
    {
     "data": {
      "text/plain": [
       "0.044444444444444446"
      ]
     },
     "execution_count": 183,
     "metadata": {},
     "output_type": "execute_result"
    }
   ],
   "source": [
    "rints[rints==0] = -1\n",
    "\n",
    "rints.sum()/rints.size"
   ]
  },
  {
   "cell_type": "markdown",
   "metadata": {},
   "source": [
    "...almost zero net magnetization- exactly what we want!"
   ]
  },
  {
   "attachments": {},
   "cell_type": "markdown",
   "metadata": {},
   "source": [
    "## Convolution\n",
    "\n",
    "One beautiful concept in mathematics that turns up in many applications is ***convolution***. It's mostly used in image processing to blur or sharpen images (among other things). Its also used in filtering data, for example, when you use a \"rolling window\" filter. \n",
    "\n",
    "Whenver the value of a pixel or voxel is to be weighted against its neighbours, some form of convolution is involved. Here, the magnetic spins affect each other, and we say that neighbouring spins are *\"coupled\"* to one another through the factor $J$. That factor will determine just how much each spin will influence its neighbour. Since only a spin value of 1 will contribute to the energy, \n",
    "\n",
    "will influence the total energy of the system, $E$, where\n",
    "\n",
    "$$ E= -J \\sum_{i,j} S_i S_j - B \\sum_k S_k $$\n",
    "\n",
    "when the system is exposed to an external magnetic field, $B$. \n",
    "\n",
    "Since each spin will influence its neighbour, the net magnetization \n",
    "\n",
    "...\n",
    "\n",
    "In our case, each spin is affected by the one above/below it or adjacent to it (left/right). So our `kernel` looks like this:"
   ]
  },
  {
   "cell_type": "code",
   "execution_count": 158,
   "metadata": {},
   "outputs": [
    {
     "data": {
      "text/plain": [
       "array([[0, 1, 0],\n",
       "       [1, 0, 1],\n",
       "       [0, 1, 0]])"
      ]
     },
     "execution_count": 158,
     "metadata": {},
     "output_type": "execute_result"
    }
   ],
   "source": [
    "kernel = np.array(  [0, 1]*4 + [0]) \n",
    "kernel = np.reshape(kernel, (3, -1))\n",
    "kernel"
   ]
  },
  {
   "attachments": {},
   "cell_type": "markdown",
   "metadata": {},
   "source": [
    "Or, equivilantly: "
   ]
  },
  {
   "cell_type": "code",
   "execution_count": 160,
   "metadata": {},
   "outputs": [
    {
     "data": {
      "text/plain": [
       "array([[False,  True, False],\n",
       "       [ True, False,  True],\n",
       "       [False,  True, False]])"
      ]
     },
     "execution_count": 160,
     "metadata": {},
     "output_type": "execute_result"
    }
   ],
   "source": [
    "kernel = kernel.astype(bool)\n",
    "kernel"
   ]
  },
  {
   "cell_type": "code",
   "execution_count": null,
   "metadata": {},
   "outputs": [],
   "source": []
  },
  {
   "cell_type": "code",
   "execution_count": null,
   "metadata": {},
   "outputs": [],
   "source": []
  }
 ],
 "metadata": {
  "kernelspec": {
   "display_name": "FromScratch",
   "language": "python",
   "name": "python3"
  },
  "language_info": {
   "codemirror_mode": {
    "name": "ipython",
    "version": 3
   },
   "file_extension": ".py",
   "mimetype": "text/x-python",
   "name": "python",
   "nbconvert_exporter": "python",
   "pygments_lexer": "ipython3",
   "version": "3.9.7"
  },
  "orig_nbformat": 4,
  "vscode": {
   "interpreter": {
    "hash": "c4fc94373f5e0b54f43d1f392628e115dbadbb61507a3532d6a4a7f89c4b962e"
   }
  }
 },
 "nbformat": 4,
 "nbformat_minor": 2
}
